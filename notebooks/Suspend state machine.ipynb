{
 "cells": [
  {
   "cell_type": "markdown",
   "source": [
    "# Suspend and a virtual stack"
   ],
   "metadata": {
    "collapsed": false
   }
  },
  {
   "cell_type": "code",
   "execution_count": null,
   "outputs": [],
   "source": [
    "suspend fun SequenceScope<Int>.collatzGenerator(start: Int) {\n",
    "    var n = start\n",
    "\n",
    "    while (true) { // function ENTRY, loop start\n",
    "        yield(n) // suspend point\n",
    "        if (n % 2 == 0) { // CONTINUE here after yield *returns*\n",
    "            n /= 2\n",
    "        } else {\n",
    "            n = 3 * n + 1\n",
    "        } // goto entry\n",
    "    }\n",
    "}\n"
   ],
   "metadata": {
    "collapsed": false
   }
  },
  {
   "cell_type": "code",
   "execution_count": null,
   "outputs": [],
   "source": [
    "// To use our generator, we need a special *wrapper* function, but it is JVM magic so I won't decompile it\n",
    "fun collatzSequence(start: Int) = sequence { collatzGenerator(start) }"
   ],
   "metadata": {
    "collapsed": false
   }
  },
  {
   "cell_type": "code",
   "execution_count": null,
   "outputs": [],
   "source": [
    "// Create a sequence, go UNTIL we find a 1 (aka 1->4->2->1 loop), print all\n",
    "collatzSequence(12344).takeWhile { it != 1 }.forEach(::println)"
   ],
   "metadata": {
    "collapsed": false
   }
  },
  {
   "cell_type": "markdown",
   "source": [
    "# So, how does it work?\n",
    "It could be a normal thread, but a thread is expensive and switching between threads is slow\n",
    "\n",
    "Let's decompile it"
   ],
   "metadata": {
    "collapsed": false
   }
  },
  {
   "cell_type": "markdown",
   "source": [],
   "metadata": {
    "collapsed": false
   }
  },
  {
   "cell_type": "markdown",
   "source": [],
   "metadata": {
    "collapsed": false
   }
  },
  {
   "cell_type": "code",
   "execution_count": 10,
   "outputs": [],
   "source": [
    "/**\n",
    "* This works pretty well as long as we don't want to invoke another suspend function from it\n",
    "*/\n",
    "class CollatzSequenceDecompiled(start: Int) {\n",
    "    enum class State {\n",
    "        ENTRY, CONTINUE\n",
    "    }\n",
    "\n",
    "    private var n: Int = start\n",
    "    private var label = State.ENTRY\n",
    "\n",
    "    fun getNextValue(): Int {\n",
    "        while (true) {\n",
    "            when (label) {\n",
    "                State.ENTRY -> {\n",
    "                    label = State.CONTINUE\n",
    "                    return n\n",
    "                }\n",
    "                State.CONTINUE -> {\n",
    "                    if (n % 2 == 0) {\n",
    "                        n /= 2\n",
    "                    } else {\n",
    "                        n = 3 * n + 1\n",
    "                    }\n",
    "                    label = State.ENTRY\n",
    "                }\n",
    "            }\n",
    "        }\n",
    "    }\n",
    "}"
   ],
   "metadata": {
    "collapsed": false,
    "ExecuteTime": {
     "end_time": "2023-10-14T15:34:49.317644267Z",
     "start_time": "2023-10-14T15:34:49.186990060Z"
    }
   }
  },
  {
   "cell_type": "code",
   "execution_count": null,
   "outputs": [],
   "source": [
    "// But what if we want to do that?"
   ],
   "metadata": {
    "collapsed": false
   }
  }
 ],
 "metadata": {
  "kernelspec": {
   "display_name": "Kotlin",
   "language": "kotlin",
   "name": "kotlin"
  },
  "language_info": {
   "name": "kotlin",
   "version": "1.9.0",
   "mimetype": "text/x-kotlin",
   "file_extension": ".kt",
   "pygments_lexer": "kotlin",
   "codemirror_mode": "text/x-kotlin",
   "nbconvert_exporter": ""
  }
 },
 "nbformat": 4,
 "nbformat_minor": 0
}
